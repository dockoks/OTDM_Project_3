{
 "cells": [
  {
   "cell_type": "code",
   "execution_count": 14,
   "id": "e990eed7",
   "metadata": {},
   "outputs": [],
   "source": [
    "import numpy as np\n",
    "from sklearn.cluster import MeanShift, estimate_bandwidth\n",
    "from sklearn.datasets import make_blobs\n",
    "from sklearn.metrics import pairwise_distances\n",
    "import pandas as pd\n",
    "import matplotlib.pyplot as plt\n",
    "import seaborn as sns\n",
    "sns.set()"
   ]
  },
  {
   "cell_type": "code",
   "execution_count": 2,
   "id": "942cfc11",
   "metadata": {},
   "outputs": [],
   "source": [
    "centers = [[1, 1], [-1, -1], [1, -1]]\n",
    "X, _ = make_blobs(n_samples=10, centers=centers, cluster_std=0.6)"
   ]
  },
  {
   "cell_type": "code",
   "execution_count": 3,
   "id": "c9069f23",
   "metadata": {
    "scrolled": false
   },
   "outputs": [
    {
     "data": {
      "text/plain": [
       "array([[-0.71136813, -1.34405971],\n",
       "       [ 1.33906484, -0.79208753],\n",
       "       [ 1.35895925,  0.2226151 ],\n",
       "       [ 0.39736452, -1.88753322],\n",
       "       [ 1.55859894,  0.11870952],\n",
       "       [ 2.11469505,  0.04814239],\n",
       "       [ 0.93420678, -0.57477179],\n",
       "       [ 1.47917843, -0.9447424 ],\n",
       "       [ 0.36496529, -0.15502453],\n",
       "       [-0.88000862, -1.16163899]])"
      ]
     },
     "execution_count": 3,
     "metadata": {},
     "output_type": "execute_result"
    }
   ],
   "source": [
    "X"
   ]
  },
  {
   "cell_type": "code",
   "execution_count": 17,
   "id": "dcb91c51",
   "metadata": {},
   "outputs": [
    {
     "data": {
      "image/png": "[encoded data removed]",
      "text/plain": [
       "<Figure size 432x288 with 1 Axes>"
      ]
     },
     "metadata": {},
     "output_type": "display_data"
    }
   ],
   "source": [
    "data = pd.DataFrame(X, columns=['A', 'B'])\n",
    "sns.scatterplot(x='A', y='B', data=data);\n",
    "t = plt.title('Ground Truth');"
   ]
  },
  {
   "cell_type": "code",
   "execution_count": 9,
   "id": "f8c156c0",
   "metadata": {},
   "outputs": [],
   "source": [
    "D = pairwise_distances(X, metric='euclidean')"
   ]
  },
  {
   "cell_type": "code",
   "execution_count": 12,
   "id": "f94b6b9d",
   "metadata": {},
   "outputs": [
    {
     "name": "stdout",
     "output_type": "stream",
     "text": [
      "[[0.         2.12342851 2.5962907  1.23476781 2.70045261 3.15037454\n",
      "  1.81651333 2.22664513 1.60383861 0.24842893]\n",
      " [2.12342851 0.         1.01489764 1.44457633 0.93688126 1.14349838\n",
      "  0.45949558 0.20720841 1.16392406 2.24963448]\n",
      " [2.5962907  1.01489764 0.         2.31892009 0.22506083 0.77561416\n",
      "  0.9034603  1.1735315  1.06331354 2.6323253 ]\n",
      " [1.23476781 1.44457633 2.31892009 0.         2.31807578 2.58767545\n",
      "  1.41828848 1.43498289 1.73281161 1.46921903]\n",
      " [2.70045261 0.93688126 0.22506083 2.31807578 0.         0.56055562\n",
      "  0.93315695 1.06641343 1.22461897 2.75428741]\n",
      " [3.15037454 1.14349838 0.77561416 2.58767545 0.56055562 0.\n",
      "  1.33475639 1.17885604 1.76148546 3.22983297]\n",
      " [1.81651333 0.45949558 0.9034603  1.41828848 0.93315695 1.33475639\n",
      "  0.         0.65868988 0.7072649  1.90677493]\n",
      " [2.22664513 0.20720841 1.1735315  1.43498289 1.06641343 1.17885604\n",
      "  0.65868988 0.         1.36569588 2.36913648]\n",
      " [1.60383861 1.16392406 1.06331354 1.73281161 1.22461897 1.76148546\n",
      "  0.7072649  1.36569588 0.         1.6010099 ]\n",
      " [0.24842893 2.24963448 2.6323253  1.46921903 2.75428741 3.22983297\n",
      "  1.90677493 2.36913648 1.6010099  0.        ]]\n"
     ]
    }
   ],
   "source": [
    "print(D)"
   ]
  }
 ],
 "metadata": {
  "kernelspec": {
   "display_name": "Python 3 (ipykernel)",
   "language": "python",
   "name": "python3"
  },
  "language_info": {
   "codemirror_mode": {
    "name": "ipython",
    "version": 3
   },
   "file_extension": ".py",
   "mimetype": "text/x-python",
   "name": "python",
   "nbconvert_exporter": "python",
   "pygments_lexer": "ipython3",
   "version": "3.9.7"
  }
 },
 "nbformat": 4,
 "nbformat_minor": 5
}
