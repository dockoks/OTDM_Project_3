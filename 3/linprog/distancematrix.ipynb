{
 "cells": [
  {
   "cell_type": "code",
   "execution_count": 1,
   "id": "f8453119",
   "metadata": {},
   "outputs": [],
   "source": [
    "from ModifiedGraph import Graph\n",
    "import pandas as pd\n",
    "import numpy as np\n",
    "import matplotlib.pyplot as plt\n",
    "import seaborn as sns\n",
    "from sklearn.metrics import pairwise_distances\n",
    "from sklearn.decomposition import PCA\n",
    "from pathlib import Path\n",
    "\n",
    "DATA_PATH = Path('data/iris.data')\n",
    "NAMES = ['sepal_length', 'sepal_width', 'petal_length', 'petal_width', 'class']\n",
    "DISTANCE_METRIC = 'euclidean'\n",
    "REMOVE_OUTLIERS = False\n",
    "KEEP_UNDER_PERCENTILE = 75\n",
    "N_CLUSTERS = 3"
   ]
  },
  {
   "cell_type": "code",
   "execution_count": 2,
   "id": "da992b34",
   "metadata": {},
   "outputs": [],
   "source": [
    "df = pd.read_csv(DATA_PATH, names=NAMES)\n",
    "\n",
    "X = df.select_dtypes(include=np.number).to_numpy()\n",
    "y = df['class'].to_numpy()\n",
    "\n",
    "D = pairwise_distances(X, metric=DISTANCE_METRIC)\n",
    "\n",
    "if REMOVE_OUTLIERS:\n",
    "    points_mean_distance = []\n",
    "    means = []\n",
    "    for i, point in enumerate(D):\n",
    "        points_mean_distance.append( (i , np.mean(D[i])))\n",
    "        means.append(np.mean(D[i]))\n",
    "\n",
    "    threshold = np.percentile(means, KEEP_UNDER_PERCENTILE)\n",
    "    points = []\n",
    "    for i, distance in points_mean_distance:\n",
    "        if distance > threshold:\n",
    "            points.append(i)\n",
    "\n",
    "    X = np.delete(X, points, axis=0)\n",
    "    y = np.delete(y, points, axis=0)"
   ]
  },
  {
   "cell_type": "code",
   "execution_count": 6,
   "id": "5babf1cf",
   "metadata": {},
   "outputs": [],
   "source": [
    "with open('matrix.txt', 'w') as testfile:\n",
    "    for row in D:\n",
    "        testfile.write(' '.join([str(a) for a in row]) + '\\n')"
   ]
  },
  {
   "cell_type": "code",
   "execution_count": 7,
   "id": "9bf8cd4a",
   "metadata": {},
   "outputs": [
    {
     "data": {
      "text/plain": [
       "(150, 150)"
      ]
     },
     "execution_count": 7,
     "metadata": {},
     "output_type": "execute_result"
    }
   ],
   "source": [
    "D.shape"
   ]
  }
 ],
 "metadata": {
  "kernelspec": {
   "display_name": "Python 3 (ipykernel)",
   "language": "python",
   "name": "python3"
  },
  "language_info": {
   "codemirror_mode": {
    "name": "ipython",
    "version": 3
   },
   "file_extension": ".py",
   "mimetype": "text/x-python",
   "name": "python",
   "nbconvert_exporter": "python",
   "pygments_lexer": "ipython3",
   "version": "3.9.7"
  }
 },
 "nbformat": 4,
 "nbformat_minor": 5
}
